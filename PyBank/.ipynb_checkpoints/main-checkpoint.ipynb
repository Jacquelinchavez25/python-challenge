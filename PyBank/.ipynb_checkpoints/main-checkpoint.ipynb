{
 "cells": [
  {
   "cell_type": "code",
   "execution_count": 1,
   "id": "7b6e4b67-204e-4f3e-85f2-bcdcf9bad7ca",
   "metadata": {},
   "outputs": [
    {
     "name": "stdout",
     "output_type": "stream",
     "text": [
      "hello\n"
     ]
    }
   ],
   "source": [
    "print(\"hello\")"
   ]
  },
  {
   "cell_type": "code",
   "execution_count": 3,
   "id": "52d9f6fe-4e18-4a78-85b3-b52a954d8a20",
   "metadata": {},
   "outputs": [],
   "source": [
    "year_dob=1908\n",
    "year_now=2023"
   ]
  },
  {
   "cell_type": "code",
   "execution_count": 4,
   "id": "7396fc3d-b87f-455c-bf68-cd8c8f03b4c9",
   "metadata": {},
   "outputs": [],
   "source": [
    "age=year_now - year_dob\n"
   ]
  },
  {
   "cell_type": "code",
   "execution_count": 5,
   "id": "4ed882aa-4263-4e67-bd79-adffba7ee700",
   "metadata": {},
   "outputs": [
    {
     "name": "stdout",
     "output_type": "stream",
     "text": [
      "115\n"
     ]
    }
   ],
   "source": [
    "print(age)"
   ]
  },
  {
   "cell_type": "code",
   "execution_count": 6,
   "id": "a3c92947-ae9c-4cc2-927d-619a0c9f5aa9",
   "metadata": {},
   "outputs": [],
   "source": [
    "myrange=range(20)"
   ]
  },
  {
   "cell_type": "code",
   "execution_count": 7,
   "id": "77af6a0b-39ca-4dc8-a818-80cb49d554b5",
   "metadata": {},
   "outputs": [
    {
     "name": "stdout",
     "output_type": "stream",
     "text": [
      "range(0, 20)\n"
     ]
    }
   ],
   "source": [
    "print(myrange)"
   ]
  },
  {
   "cell_type": "code",
   "execution_count": 8,
   "id": "7086c4a1-3129-4397-a7cc-1090ce7f7442",
   "metadata": {},
   "outputs": [
    {
     "name": "stdout",
     "output_type": "stream",
     "text": [
      "0\n",
      "1\n",
      "2\n",
      "3\n",
      "4\n",
      "5\n",
      "6\n",
      "7\n",
      "8\n",
      "9\n",
      "10\n",
      "11\n",
      "12\n",
      "13\n",
      "14\n",
      "15\n",
      "16\n",
      "17\n",
      "18\n",
      "19\n"
     ]
    }
   ],
   "source": [
    "for x in myrange:\n",
    "    print(x)"
   ]
  },
  {
   "cell_type": "code",
   "execution_count": 9,
   "id": "96cc570a-3177-475c-ba31-fa223fd1bd72",
   "metadata": {},
   "outputs": [
    {
     "name": "stdout",
     "output_type": "stream",
     "text": [
      "0\n",
      "2\n",
      "4\n",
      "6\n",
      "8\n",
      "10\n",
      "12\n",
      "14\n",
      "16\n",
      "18\n",
      "20\n",
      "22\n",
      "24\n",
      "26\n",
      "28\n",
      "30\n",
      "32\n",
      "34\n",
      "36\n",
      "38\n"
     ]
    }
   ],
   "source": [
    "for number in myrange:\n",
    "    product=number*2\n",
    "    print(product)"
   ]
  },
  {
   "cell_type": "code",
   "execution_count": 12,
   "id": "5ddbb5ea-7cff-417b-9931-d9f9393a2823",
   "metadata": {},
   "outputs": [
    {
     "name": "stdout",
     "output_type": "stream",
     "text": [
      "1\n",
      "2\n",
      "3\n",
      "4\n",
      "5\n",
      "6\n",
      "7\n",
      "8\n",
      "9\n",
      "30\n",
      "33\n",
      "36\n",
      "39\n",
      "42\n",
      "45\n",
      "48\n",
      "51\n",
      "54\n",
      "57\n",
      "400\n"
     ]
    }
   ],
   "source": [
    "count=0\n",
    "for number in myrange:\n",
    "    count+=1\n",
    "    if count > 19:\n",
    "        product = count * 20\n",
    "    elif count>9:\n",
    "        product= count*3\n",
    "    else:\n",
    "        product = count\n",
    "    print(product)"
   ]
  },
  {
   "cell_type": "code",
   "execution_count": null,
   "id": "d17bb536-7ef1-4c1b-ba26-0d6b2d006c7b",
   "metadata": {},
   "outputs": [],
   "source": []
  }
 ],
 "metadata": {
  "kernelspec": {
   "display_name": "Python 3 (ipykernel)",
   "language": "python",
   "name": "python3"
  },
  "language_info": {
   "codemirror_mode": {
    "name": "ipython",
    "version": 3
   },
   "file_extension": ".py",
   "mimetype": "text/x-python",
   "name": "python",
   "nbconvert_exporter": "python",
   "pygments_lexer": "ipython3",
   "version": "3.12.0"
  }
 },
 "nbformat": 4,
 "nbformat_minor": 5
}

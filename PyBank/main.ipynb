{
 "cells": [
  {
   "cell_type": "code",
   "execution_count": 13,
   "id": "a29ba510-6e87-4cb2-a1c9-0aed15d14c17",
   "metadata": {},
   "outputs": [
    {
     "name": "stdout",
     "output_type": "stream",
     "text": [
      "Financial Analysis\n",
      "----------------------------\n",
      "Total Months: 86\n",
      "Total: 38382578\n",
      "Average  Change: -2315.12\n",
      "Greatest Increase in Profits:: Feb-2012 ($1170593)\n",
      "Greatest Decrease in Profits:: Sep-2013 ($-1196225)\n",
      "\n"
     ]
    }
   ],
   "source": [
    "#*/-*- coding: UTF-8 -*-\n",
    "#\"\"\"PyBank Starter.\"\"\"\n",
    "                      \n",
    "# @TODO: Import libraries\n",
    "import csv\n",
    "from pathlib import Path\n",
    "\n",
    "# @TODO: Imporing pandas library to read the data\n",
    "import pandas as pd\n",
    "\n",
    "\n",
    "# @TODO: Set file paths for budget_data.csv\n",
    "budget_data = 'budget_data.csv' \n",
    "\n",
    "# Read csv file to a Dataframe\n",
    "df= pd.read_csv(budget_data,encoding='utf-8')\n",
    "\n",
    "# calculation of the total number of months in the dataset\n",
    "total_months_count= len(df)\n",
    "\n",
    "#Calculate the net total amount of Profit/Losses over the entire period\n",
    "net_total= df[\"Profit/Losses\"].sum()\n",
    "\n",
    "#Calculate the average of the changes in Profit/Losses over the entire period\n",
    "avg_change= df[\"Profit/Losses\"].diff().mean()\n",
    "\n",
    "#Calculate the greatest increase in Profits over the entire period\n",
    "greatest_increase_date = df.loc[df[\"Profit/Losses\"].idxmax(),\"Date\"]\n",
    "greatest_increase_amt= df[\"Profit/Losses\"].max()\n",
    "\n",
    "#Calculate the greatest decrease in Losses over the entire period (Date and Amount)\n",
    "most_decrease_date= df.loc[df[\"Profit/Losses\"].idxmin(),\"Date\"]\n",
    "greatest_descrease_amt= df[\"Profit/Losses\"].min()\n",
    "\n",
    "\n",
    "#Print the analysis and export the analysis to a text file that contains the final results\n",
    "\n",
    "result=(\n",
    "    \"Financial Analysis\\n\"\n",
    "    \"----------------------------\\n\"\n",
    "    f\"Total Months: {total_months_count}\\n\"\n",
    "    f\"Total: {net_total}\\n\"\n",
    "    f\"Average  Change: {avg_change:.2f}\\n\"\n",
    "    f\"Greatest Increase in Profits:: {greatest_increase_date} (${greatest_increase_amt})\\n\"\n",
    "    f\"Greatest Decrease in Profits:: {most_decrease_date} (${greatest_descrease_amt})\\n\"\n",
    "    )\n",
    "print (result)\n",
    "\n",
    "# @TODO: Write out report to a text file (won't appear on the command line output\n",
    "output_file=\"financial_analysis.txt\"\n",
    "with open(output_file,'w') as output:\n",
    "    output.write(result)\n",
    "\n",
    "\n",
    "    \n"
   ]
  },
  {
   "cell_type": "code",
   "execution_count": 3,
   "id": "bfe63d2b-0ff9-46c8-b092-6e85b9ad8e2c",
   "metadata": {},
   "outputs": [
    {
     "name": "stdout",
     "output_type": "stream",
     "text": [
      "Collecting pandas\n",
      "  Downloading pandas-2.1.3-cp312-cp312-macosx_10_9_x86_64.whl.metadata (18 kB)\n",
      "Collecting numpy<2,>=1.26.0 (from pandas)\n",
      "  Downloading numpy-1.26.2-cp312-cp312-macosx_10_9_x86_64.whl.metadata (61 kB)\n",
      "\u001b[2K     \u001b[90m━━━━━━━━━━━━━━━━━━━━━━━━━━━━━━━━━━━━━━━━\u001b[0m \u001b[32m61.2/61.2 kB\u001b[0m \u001b[31m1.2 MB/s\u001b[0m eta \u001b[36m0:00:00\u001b[0ma \u001b[36m0:00:01\u001b[0m\n",
      "\u001b[?25hRequirement already satisfied: python-dateutil>=2.8.2 in /Users/jacquelinchavez/anaconda3/envs/dev/lib/python3.12/site-packages (from pandas) (2.8.2)\n",
      "Requirement already satisfied: pytz>=2020.1 in /Users/jacquelinchavez/anaconda3/envs/dev/lib/python3.12/site-packages (from pandas) (2023.3.post1)\n",
      "Collecting tzdata>=2022.1 (from pandas)\n",
      "  Downloading tzdata-2023.3-py2.py3-none-any.whl (341 kB)\n",
      "\u001b[2K     \u001b[90m━━━━━━━━━━━━━━━━━━━━━━━━━━━━━━━━━━━━━━━\u001b[0m \u001b[32m341.8/341.8 kB\u001b[0m \u001b[31m3.6 MB/s\u001b[0m eta \u001b[36m0:00:00\u001b[0ma \u001b[36m0:00:01\u001b[0m\n",
      "\u001b[?25hRequirement already satisfied: six>=1.5 in /Users/jacquelinchavez/anaconda3/envs/dev/lib/python3.12/site-packages (from python-dateutil>=2.8.2->pandas) (1.16.0)\n",
      "Downloading pandas-2.1.3-cp312-cp312-macosx_10_9_x86_64.whl (11.4 MB)\n",
      "\u001b[2K   \u001b[90m━━━━━━━━━━━━━━━━━━━━━━━━━━━━━━━━━━━━━━━━\u001b[0m \u001b[32m11.4/11.4 MB\u001b[0m \u001b[31m8.4 MB/s\u001b[0m eta \u001b[36m0:00:00\u001b[0m00:01\u001b[0m00:01\u001b[0m\n",
      "\u001b[?25hDownloading numpy-1.26.2-cp312-cp312-macosx_10_9_x86_64.whl (20.3 MB)\n",
      "\u001b[2K   \u001b[90m━━━━━━━━━━━━━━━━━━━━━━━━━━━━━━━━━━━━━━━━\u001b[0m \u001b[32m20.3/20.3 MB\u001b[0m \u001b[31m9.6 MB/s\u001b[0m eta \u001b[36m0:00:00\u001b[0m00:01\u001b[0m00:01\u001b[0mm\n",
      "\u001b[?25hInstalling collected packages: tzdata, numpy, pandas\n",
      "Successfully installed numpy-1.26.2 pandas-2.1.3 tzdata-2023.3\n"
     ]
    }
   ],
   "source": [
    "!pip install pandas\n"
   ]
  },
  {
   "cell_type": "code",
   "execution_count": null,
   "id": "0d7cda69-41be-47e0-8ce6-326b69f3b4dd",
   "metadata": {},
   "outputs": [],
   "source": []
  }
 ],
 "metadata": {
  "kernelspec": {
   "display_name": "Python 3 (ipykernel)",
   "language": "python",
   "name": "python3"
  },
  "language_info": {
   "codemirror_mode": {
    "name": "ipython",
    "version": 3
   },
   "file_extension": ".py",
   "mimetype": "text/x-python",
   "name": "python",
   "nbconvert_exporter": "python",
   "pygments_lexer": "ipython3",
   "version": "3.12.0"
  }
 },
 "nbformat": 4,
 "nbformat_minor": 5
}
